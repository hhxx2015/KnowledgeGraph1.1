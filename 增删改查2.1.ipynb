{
 "cells": [
  {
   "cell_type": "code",
   "execution_count": 1,
   "metadata": {},
   "outputs": [],
   "source": [
    "class Neo4jGraph():\n",
    "    def __init__(self,login):\n",
    "        self.graph=None\n",
    "        self._ip=login.split('-')[0]\n",
    "        self._username=login.split('-')[1]\n",
    "        self._password=login.split('-')[2]\n",
    "        self.CQL=''\n",
    "    def con(self):\n",
    "        from py2neo import Graph, Node, Relationship, NodeMatcher \n",
    "        self.graph=Graph(self._ip,username=self._username,password=self._password)\n",
    "        return self.graph\n",
    "    def cql(self,string):\n",
    "        return self.graph.run(string).data()\n",
    "    def cqlclean(self):\n",
    "        self.CQL=''\n",
    "        return self\n",
    "    def go(self):\n",
    "        tmp=self.CQL\n",
    "        self.CQL=''\n",
    "        return self.graph.run(tmp).data()\n",
    "    def GraphClean(self):\n",
    "        self.graph.delete_all()\n",
    "    def showcql(self):\n",
    "        print(self.CQL)\n",
    "    def create(self,label,propertyy):\n",
    "        \n",
    "        label_names=label.split(',')\n",
    "        PropertyNameAndValues=propertyy.split(',')\n",
    "        cql='''CREATE ('''\n",
    "    #     labelname\n",
    "        s1='n'\n",
    "        for labelname in label_names:\n",
    "            s1=s1+':'+labelname\n",
    "    #    PropertyNameAndValues\n",
    "        s2='{'\n",
    "        for propertyNameAndValue in PropertyNameAndValues:\n",
    "            s2=s2+propertyNameAndValue+','\n",
    "        s2=s2[:-1].replace(\"=\", \":\")+'}'\n",
    "    #     cql\n",
    "        cql=cql+s1+s2+')'\n",
    "        self.CQL=self.CQL+cql+\" \"\n",
    "#         print(self.CQL)\n",
    "        return self\n",
    "    def match(self,label):\n",
    "        label_names=label.split(',')\n",
    "    #     labelname\n",
    "        s1='MATCH (n'\n",
    "        for labelname in label_names:\n",
    "            s1=s1+':'+labelname\n",
    "    #    PropertyNameAndValues\n",
    "        s2=')'\n",
    "        cql=s1+s2\n",
    "        \n",
    "        self.CQL=self.CQL+cql+\" \"\n",
    "#         print(self.CQL)\n",
    "        return self\n",
    "    def where(self,propertyy):\n",
    "        PropertyNameAndValues=Property.split(' ')\n",
    "    #     labelname\n",
    "        s1='WHERE '\n",
    "        for propertyNameAndValue in PropertyNameAndValues:\n",
    "            if propertyNameAndValue in ['or','OR','',' ','and','AND','in','is','IN','IS','NOT']:\n",
    "                s1=s1+propertyNameAndValue+' '\n",
    "            else:\n",
    "                s1=s1+'n.'+propertyNameAndValue+' '\n",
    "        cql=s1[:-1]\n",
    "        self.CQL=self.CQL+cql+\" \"\n",
    "#         print(self.CQL)\n",
    "        return self\n",
    "    def retur(self,ret):\n",
    "        cql='return n'\n",
    "        if ret:\n",
    "            cql=cql[:-1]\n",
    "            retString=ret.split(',')\n",
    "            for ret in retString:\n",
    "                cql=cql+'n.'+ret+','\n",
    "            cql=cql[:-1]\n",
    "        self.CQL=self.CQL+cql+\" \"\n",
    "#         print(self.CQL)\n",
    "        return self"
   ]
  },
  {
   "cell_type": "code",
   "execution_count": 2,
   "metadata": {},
   "outputs": [
    {
     "data": {
      "text/plain": [
       "Graph('http://neo4j@115.159.104.113:7474')"
      ]
     },
     "execution_count": 2,
     "metadata": {},
     "output_type": "execute_result"
    }
   ],
   "source": [
    "connection=\"http://115.159.104.113:7474-neo4-123456\"\n",
    "t=Neo4jGraph(connection)\n",
    "t.con()"
   ]
  },
  {
   "cell_type": "code",
   "execution_count": 330,
   "metadata": {},
   "outputs": [
    {
     "name": "stdout",
     "output_type": "stream",
     "text": [
      "CREATE (n:pedfrson:cdfdhil{\n",
      "              name:'HOOex',\n",
      "              age:3\n",
      "              }) return n.age \n",
      " n.age \r\n",
      "-------\r\n",
      "     3 \r\n",
      "\n"
     ]
    }
   ],
   "source": [
    "# t.GraphClean()\n",
    "t.cqlclean().create(label=\n",
    "              'pedfrson,cdfdhil',\n",
    "               propertyy=\n",
    "              '''\n",
    "              name='HOOex',\n",
    "              age=3\n",
    "              '''\n",
    "      ).retur(ret='''age''')\n",
    "\n",
    "t.cqlclean()\n",
    "t.showcql()\n",
    "\n",
    "\n",
    "\n",
    "res=t.go()\n",
    "print(res)\n",
    "# print(t.CQL)\n",
    "# t.go()"
   ]
  },
  {
   "cell_type": "markdown",
   "metadata": {},
   "source": [
    "# 增"
   ]
  },
  {
   "cell_type": "code",
   "execution_count": null,
   "metadata": {},
   "outputs": [],
   "source": [
    "# 1.增加节点\n",
    "t.cql('''\n",
    "CREATE \n",
    "(a:Person:girl\n",
    "{\n",
    "name:'张2三',age:12\n",
    "}) \n",
    "''')\n",
    "\n",
    "t.cql('''\n",
    "CREATE \n",
    "(a:Person:girl\n",
    "{\n",
    "name:'李33四',age:12\n",
    "})\n",
    "''')"
   ]
  },
  {
   "cell_type": "code",
   "execution_count": 364,
   "metadata": {},
   "outputs": [
    {
     "data": {
      "text/plain": [
       "[{'a': Node('Person', 'girl', age=12, name='张2三'),\n",
       "  'b': Node('Person', 'girl', age=12, name='李33四')},\n",
       " {'a': Node('Person', 'girl', age=12, name='张2三'),\n",
       "  'b': Node('Person', 'girl', age=12, name='李33四')},\n",
       " {'a': Node('Person', 'girl', age=12, name='张2三'),\n",
       "  'b': Node('Person', 'girl', age=12, name='李33四')},\n",
       " {'a': Node('Person', 'girl', age=12, name='张2三'),\n",
       "  'b': Node('Person', 'girl', age=12, name='李33四')},\n",
       " {'a': Node('Person', 'girl', age=12, name='张2三'),\n",
       "  'b': Node('Person', 'girl', age=12, name='李33四')},\n",
       " {'a': Node('Person', 'girl', age=12, name='张2三'),\n",
       "  'b': Node('Person', 'girl', age=12, name='李33四')},\n",
       " {'a': Node('Person', 'girl', age=12, name='张2三'),\n",
       "  'b': Node('Person', 'girl', age=12, name='李33四')},\n",
       " {'a': Node('Person', 'girl', age=12, name='张2三'),\n",
       "  'b': Node('Person', 'girl', age=12, name='李33四')},\n",
       " {'a': Node('Person', 'girl', age=12, name='张2三'),\n",
       "  'b': Node('Person', 'girl', age=12, name='李33四')}]"
      ]
     },
     "execution_count": 364,
     "metadata": {},
     "output_type": "execute_result"
    }
   ],
   "source": [
    "# 2.增加联系\n",
    "t.cql('''\n",
    "MATCH \n",
    "(a:Person)\n",
    "WHERE \n",
    "a.name='张2三'\n",
    "\n",
    "MATCH\n",
    "(b:Person)\n",
    "WHERE \n",
    "b.name='李33四'\n",
    "\n",
    "CREATE \n",
    "(a)-[\n",
    "c:PE\n",
    "{IDD:'1000'}\n",
    "]->(b)\n",
    "RETURN\n",
    "a,b\n",
    "''')"
   ]
  },
  {
   "cell_type": "code",
   "execution_count": 365,
   "metadata": {},
   "outputs": [
    {
     "data": {
      "text/plain": [
       "[{'a': Node('Person', 'girl', age=12, name='peiqi'),\n",
       "  'b': Node('Person', 'girl', age=12, name='miki')}]"
      ]
     },
     "execution_count": 365,
     "metadata": {},
     "output_type": "execute_result"
    }
   ],
   "source": [
    "# 3.创建节点和关系\n",
    "t.cql('''\n",
    "CREATE \n",
    "(a:Person:girl\n",
    "{\n",
    "name:'peiqi',age:12\n",
    "})-[\n",
    "c:PE\n",
    "{IDD:'1000'}\n",
    "]->(b:Person:girl\n",
    "{\n",
    "name:'miki',age:12\n",
    "})\n",
    "RETURN a,b\n",
    "''')"
   ]
  },
  {
   "cell_type": "code",
   "execution_count": 366,
   "metadata": {},
   "outputs": [
    {
     "data": {
      "text/plain": [
       "[{'a': Node('Person', 'girl', age=12, name='peiqi'),\n",
       "  'b': Node('Person', 'girl', age=12, name='miki')}]"
      ]
     },
     "execution_count": 366,
     "metadata": {},
     "output_type": "execute_result"
    }
   ],
   "source": [
    "# 4.创建节点和关系\n",
    "t.cql('''\n",
    "CREATE \n",
    "(a:Person:girl\n",
    "{\n",
    "name:'peiqi',age:12\n",
    "})-[\n",
    "c:PE\n",
    "{IDD:'1000'}\n",
    "]->(b:Person:girl\n",
    "{\n",
    "name:'miki',age:12\n",
    "})\n",
    "RETURN a,b\n",
    "''')"
   ]
  },
  {
   "cell_type": "markdown",
   "metadata": {},
   "source": [
    "# 改"
   ]
  },
  {
   "cell_type": "code",
   "execution_count": 373,
   "metadata": {},
   "outputs": [
    {
     "data": {
      "text/plain": [
       "[{'a': Node('Person', 'girl', age=12, id=1, name='张2三')},\n",
       " {'a': Node('Person', 'girl', age=12, id=1, name='张2三')},\n",
       " {'a': Node('Person', 'girl', age=12, id=1, name='张2三')},\n",
       " {'a': Node('Person', 'girl', age=12, id=1, name='peiqi')},\n",
       " {'a': Node('Person', 'girl', age=12, id=1, name='peiqi')},\n",
       " {'a': Node('Person', 'girl', age=12, id=1, name='peiqi')},\n",
       " {'a': Node('Person', 'girl', age=12, id=1, name='peiqi')},\n",
       " {'a': Node('Person', 'girl', age=12, id=1, name='peiqi')},\n",
       " {'a': Node('Person', 'girl', age=12, id=1, name='peiqi')},\n",
       " {'a': Node('Person', 'girl', age=12, id=1, name='peiqi')},\n",
       " {'a': Node('Person', 'girl', age=12, id=1, name='peiqi')},\n",
       " {'a': Node('Person', 'girl', age=12, id=1, name='peiqi')},\n",
       " {'a': Node('Person', 'girl', age=12, id=1, name='peiqi')},\n",
       " {'a': Node('Person', 'girl', age=12, id=1, name='peiqi')}]"
      ]
     },
     "execution_count": 373,
     "metadata": {},
     "output_type": "execute_result"
    }
   ],
   "source": [
    "#1.改节点属性\n",
    "t.cql('''\n",
    "MATCH \n",
    "(a:Person)\n",
    "WHERE \n",
    "a.name='张2三'\n",
    "OR\n",
    "a.name='peiqi'\n",
    "SET\n",
    "a.id=1\n",
    "return a\n",
    "''')"
   ]
  },
  {
   "cell_type": "code",
   "execution_count": 378,
   "metadata": {},
   "outputs": [
    {
     "data": {
      "text/plain": [
       "[{'c': PE(Node('Person', 'girl', age=12, id=1, name='peiqi'), Node('Person', 'girl', age=12, name='miki'), IDD=1222, ll=1)},\n",
       " {'c': PE(Node('Person', 'girl', age=12, id=1, name='peiqi'), Node('Person', 'girl', age=12, name='miki'), IDD=1222, ll=1)},\n",
       " {'c': PE(Node('Person', 'girl', age=12, id=1, name='peiqi'), Node('Person', 'girl', age=12, name='miki'), IDD=1222, ll=1)},\n",
       " {'c': PE(Node('Person', 'girl', age=12, id=1, name='peiqi'), Node('Person', 'girl', age=12, name='miki'), IDD=1222, ll=1)},\n",
       " {'c': PE(Node('Person', 'girl', age=12, id=1, name='peiqi'), Node('Person', 'girl', age=12, name='miki'), IDD=1222, ll=1)},\n",
       " {'c': PE(Node('Person', 'girl', age=12, id=1, name='peiqi'), Node('Person', 'girl', age=12, name='miki'), IDD=1222, ll=1)},\n",
       " {'c': PE(Node('Person', 'girl', age=12, id=1, name='peiqi'), Node('Person', 'girl', age=12, name='miki'), IDD=1222, ll=1)},\n",
       " {'c': PE(Node('Person', 'girl', age=12, id=1, name='peiqi'), Node('Person', 'girl', age=12, name='miki'), IDD=1222, ll=1)},\n",
       " {'c': PE(Node('Person', 'girl', age=12, id=1, name='peiqi'), Node('Person', 'girl', age=12, name='miki'), IDD=1222, ll=1)},\n",
       " {'c': PE(Node('Person', 'girl', age=12, id=1, name='peiqi'), Node('Person', 'girl', age=12, name='miki'), IDD=1222, ll=1)},\n",
       " {'c': PE(Node('Person', 'girl', age=12, id=1, name='peiqi'), Node('Person', 'girl', age=12, name='miki'), IDD=1222, ll=1)}]"
      ]
     },
     "execution_count": 378,
     "metadata": {},
     "output_type": "execute_result"
    }
   ],
   "source": [
    "# 2.改联系的属性\n",
    "t.cql('''\n",
    "MATCH \n",
    "(a:Person)\n",
    "-[c]->(b:Person) \n",
    "WHERE a.name='peiqi'\n",
    "and b.name='miki'\n",
    "SET c.IDD=1222,c.ll=1\n",
    "return c\n",
    "\n",
    "''')"
   ]
  },
  {
   "cell_type": "code",
   "execution_count": 391,
   "metadata": {},
   "outputs": [
    {
     "data": {
      "text/plain": [
       "[{'a': Node('Person', 'TTTT', 'girl', age=12, id=1, name='张2三')},\n",
       " {'a': Node('Person', 'TTTT', 'girl', age=12, id=1, name='张2三')},\n",
       " {'a': Node('Person', 'TTTT', 'girl', age=12, id=1, name='张2三')},\n",
       " {'a': Node('Person', 'TTTT', 'girl', age=12, id=1, name='peiqi')},\n",
       " {'a': Node('Person', 'TTTT', 'girl', age=12, id=1, name='peiqi')},\n",
       " {'a': Node('Person', 'TTTT', 'girl', age=12, id=1, name='peiqi')},\n",
       " {'a': Node('Person', 'TTTT', 'girl', age=12, id=1, name='peiqi')},\n",
       " {'a': Node('Person', 'TTTT', 'girl', age=12, id=1, name='peiqi')},\n",
       " {'a': Node('Person', 'TTTT', 'girl', age=12, id=1, name='peiqi')},\n",
       " {'a': Node('Person', 'TTTT', 'girl', age=12, id=1, name='peiqi')},\n",
       " {'a': Node('Person', 'TTTT', 'girl', age=12, id=1, name='peiqi')},\n",
       " {'a': Node('Person', 'TTTT', 'girl', age=12, id=1, name='peiqi')},\n",
       " {'a': Node('Person', 'TTTT', 'girl', age=12, id=1, name='peiqi')},\n",
       " {'a': Node('Person', 'TTTT', 'girl', age=12, id=1, name='peiqi')}]"
      ]
     },
     "execution_count": 391,
     "metadata": {},
     "output_type": "execute_result"
    }
   ],
   "source": [
    "#3.增加节点标签\n",
    "t.cql('''\n",
    "MATCH \n",
    "(a:Person)\n",
    "WHERE \n",
    "a.name='张2三'\n",
    "OR\n",
    "a.name='peiqi'\n",
    "SET\n",
    "a:TTTT,a.id=1\n",
    "return a\n",
    "''')"
   ]
  },
  {
   "cell_type": "markdown",
   "metadata": {},
   "source": [
    "# 删"
   ]
  },
  {
   "cell_type": "code",
   "execution_count": 386,
   "metadata": {},
   "outputs": [
    {
     "data": {
      "text/plain": [
       "[{'c': PE(Node('Person', 'girl', age=12, name='张2三'), Node('Person', 'girl', age=12, name='李33四'))},\n",
       " {'c': PE(Node('Person', 'girl', age=12, name='张2三'), Node('Person', 'girl', age=12, name='李33四'))},\n",
       " {'c': PE(Node('Person', 'girl', age=12, name='张2三'), Node('Person', 'girl', age=12, name='李33四'))},\n",
       " {'c': PE(Node('Person', 'girl', age=12, name='张2三'), Node('Person', 'girl', age=12, name='李33四'))},\n",
       " {'c': PE(Node('Person', 'girl', age=12, name='张2三'), Node('Person', 'girl', age=12, name='李33四'))},\n",
       " {'c': PE(Node('Person', 'girl', age=12, name='张2三'), Node('Person', 'girl', age=12, name='李33四'))},\n",
       " {'c': PE(Node('Person', 'girl', age=12, name='张2三'), Node('Person', 'girl', age=12, name='李33四'))},\n",
       " {'c': PE(Node('Person', 'girl', age=12, name='张2三'), Node('Person', 'girl', age=12, name='李33四'))},\n",
       " {'c': PE(Node('Person', 'girl', age=12, name='张2三'), Node('Person', 'girl', age=12, name='李33四'))},\n",
       " {'c': PE(Node('Person', 'girl', age=12, name='张2三'), Node('Person', 'girl', age=12, name='李33四'))}]"
      ]
     },
     "execution_count": 386,
     "metadata": {},
     "output_type": "execute_result"
    }
   ],
   "source": [
    "# 1.删属性\n",
    "t.cql('''MATCH \n",
    "(a)\n",
    "-[c]->\n",
    "(b)\n",
    "WHERE \n",
    "a.name='张2三'\n",
    "AND\n",
    "b.name='李33四'\n",
    "REMOVE\n",
    "c.IDD,a.id\n",
    "return c\n",
    "''')"
   ]
  },
  {
   "cell_type": "code",
   "execution_count": 390,
   "metadata": {},
   "outputs": [
    {
     "data": {
      "text/plain": [
       "[]"
      ]
     },
     "execution_count": 390,
     "metadata": {},
     "output_type": "execute_result"
    }
   ],
   "source": [
    "# 2.删节点或者关系\n",
    "t.cql('''\n",
    "MATCH \n",
    "(a)\n",
    "-[c]->\n",
    "(b)\n",
    "WHERE \n",
    "a.name='张2三'\n",
    "AND\n",
    "b.name='李33四'\n",
    "DELETE \n",
    "c\n",
    "''')\n"
   ]
  },
  {
   "cell_type": "code",
   "execution_count": 392,
   "metadata": {},
   "outputs": [
    {
     "data": {
      "text/plain": [
       "[{'a': Node('girl', age=12, id=1, name='张2三')},\n",
       " {'a': Node('girl', age=12, id=1, name='张2三')},\n",
       " {'a': Node('girl', age=12, id=1, name='张2三')},\n",
       " {'a': Node('girl', age=12, id=1, name='peiqi')},\n",
       " {'a': Node('girl', age=12, id=1, name='peiqi')},\n",
       " {'a': Node('girl', age=12, id=1, name='peiqi')},\n",
       " {'a': Node('girl', age=12, id=1, name='peiqi')},\n",
       " {'a': Node('girl', age=12, id=1, name='peiqi')},\n",
       " {'a': Node('girl', age=12, id=1, name='peiqi')},\n",
       " {'a': Node('girl', age=12, id=1, name='peiqi')},\n",
       " {'a': Node('girl', age=12, id=1, name='peiqi')},\n",
       " {'a': Node('girl', age=12, id=1, name='peiqi')},\n",
       " {'a': Node('girl', age=12, id=1, name='peiqi')},\n",
       " {'a': Node('girl', age=12, id=1, name='peiqi')}]"
      ]
     },
     "execution_count": 392,
     "metadata": {},
     "output_type": "execute_result"
    }
   ],
   "source": [
    "# 3.删target\n",
    "\n",
    "t.cql('''\n",
    "MATCH \n",
    "(a:Person)\n",
    "WHERE \n",
    "a.name='张2三'\n",
    "OR\n",
    "a.name='peiqi'\n",
    "REMOVE\n",
    "a:Person:TTTT\n",
    "RETURN\n",
    "a\n",
    "''')"
   ]
  },
  {
   "cell_type": "markdown",
   "metadata": {},
   "source": [
    "# 查"
   ]
  },
  {
   "cell_type": "code",
   "execution_count": 371,
   "metadata": {},
   "outputs": [
    {
     "data": {
      "text/plain": [
       "[{'a.name': '张2三', 'a.id': None, 'a.age': 12},\n",
       " {'a.name': '张2三', 'a.id': None, 'a.age': 12},\n",
       " {'a.name': 'peiqi', 'a.id': None, 'a.age': 12},\n",
       " {'a.name': 'peiqi', 'a.id': None, 'a.age': 12},\n",
       " {'a.name': 'peiqi', 'a.id': None, 'a.age': 12},\n",
       " {'a.name': 'peiqi', 'a.id': None, 'a.age': 12},\n",
       " {'a.name': 'peiqi', 'a.id': None, 'a.age': 12},\n",
       " {'a.name': 'peiqi', 'a.id': None, 'a.age': 12},\n",
       " {'a.name': 'peiqi', 'a.id': None, 'a.age': 12},\n",
       " {'a.name': '张2三', 'a.id': None, 'a.age': 12}]"
      ]
     },
     "execution_count": 371,
     "metadata": {},
     "output_type": "execute_result"
    }
   ],
   "source": [
    "# 1.查单节点\n",
    "t.cql('''\n",
    "MATCH \n",
    "(a:Person)\n",
    "WHERE \n",
    "a.name='张2三'\n",
    "OR\n",
    "a.name='peiqi'\n",
    "RETURN \n",
    "a.name,a.id,a.age\n",
    "ORDER BY  \n",
    "a.age,a.id\n",
    "DESC\n",
    "LIMIT 10\n",
    "\n",
    "''')"
   ]
  },
  {
   "cell_type": "code",
   "execution_count": null,
   "metadata": {},
   "outputs": [],
   "source": [
    "# 2.查联系的属性\n",
    "t.cql('''\n",
    "MATCH \n",
    "(a:Person)\n",
    "\n",
    "-[c]->(b:Person) \n",
    "WHERE a.name='peiqi'\n",
    "and b.name='miki'\n",
    "return c\n",
    "\n",
    "''')"
   ]
  },
  {
   "cell_type": "markdown",
   "metadata": {},
   "source": [
    "# UNION"
   ]
  },
  {
   "cell_type": "raw",
   "metadata": {},
   "source": [
    "t.cql('''\n",
    "MATCH \n",
    "(a:Person)\n",
    "WHERE \n",
    "a.name='张2三'\n",
    "OR\n",
    "a.name='peiqi'\n",
    "RETURN \n",
    "a.name,a.id,a.age\n",
    "ORDER BY  \n",
    "a.age,a.id\n",
    "UNION\n",
    "MATCH \n",
    "(a:Person)\n",
    "WHERE \n",
    "a.name='张2三'\n",
    "OR\n",
    "a.name='peiqi'\n",
    "RETURN \n",
    "a.name,a.id,a.age\n",
    "ORDER BY  \n",
    "a.age,a.id\n",
    "\n",
    "''')"
   ]
  },
  {
   "cell_type": "code",
   "execution_count": null,
   "metadata": {},
   "outputs": [],
   "source": []
  },
  {
   "cell_type": "markdown",
   "metadata": {},
   "source": [
    "# 两跳"
   ]
  },
  {
   "cell_type": "code",
   "execution_count": 394,
   "metadata": {},
   "outputs": [
    {
     "data": {
      "text/plain": [
       "[{'a': Node('test', name='A'), 'b': Node('test', name='B')}]"
      ]
     },
     "execution_count": 394,
     "metadata": {},
     "output_type": "execute_result"
    }
   ],
   "source": [
    "#1\n",
    "t.cql('''\n",
    "create\n",
    "(a:test{name:'A'})-[c:testrelation{name:'C'}]->(b:test{name:'B'})\n",
    "return a,b\n",
    "''')"
   ]
  },
  {
   "cell_type": "code",
   "execution_count": 396,
   "metadata": {},
   "outputs": [
    {
     "data": {
      "text/plain": [
       "[{'a': Node('test', name='B'), 'b': Node('test', name='D')}]"
      ]
     },
     "execution_count": 396,
     "metadata": {},
     "output_type": "execute_result"
    }
   ],
   "source": [
    "#2\n",
    "t.cql('''\n",
    "match (a)\n",
    "where a.name='B'\n",
    "create\n",
    "(a)-[c:testrelation{name:'E'}]->(b:test{name:'D'})\n",
    "return a,b\n",
    "''')"
   ]
  },
  {
   "cell_type": "code",
   "execution_count": 397,
   "metadata": {},
   "outputs": [
    {
     "data": {
      "text/plain": [
       "[{'e': Node('test', name='D')}]"
      ]
     },
     "execution_count": 397,
     "metadata": {},
     "output_type": "execute_result"
    }
   ],
   "source": [
    "#3\n",
    "t.cql('''\n",
    "match (a)-[b]->(c)-[d]->(e)\n",
    "where a.name='A'\n",
    "return e\n",
    "''')"
   ]
  },
  {
   "cell_type": "markdown",
   "metadata": {},
   "source": [
    "# 远程导入"
   ]
  },
  {
   "cell_type": "markdown",
   "metadata": {},
   "source": [
    "### 有列名"
   ]
  },
  {
   "cell_type": "code",
   "execution_count": null,
   "metadata": {},
   "outputs": [],
   "source": [
    "t.cql(''' USING PERIODIC COMMIT 200 \n",
    "LOAD CSV WITH HEADERS \n",
    "FROM \"file:///practice/actors.csv\" \n",
    "AS line CREATE \n",
    "(a:actors{personId:line.person:ID,name:line.name,type:line.LABEL})\n",
    "\n",
    " '''  \n",
    ")"
   ]
  },
  {
   "cell_type": "markdown",
   "metadata": {},
   "source": [
    "### 没列名"
   ]
  },
  {
   "cell_type": "code",
   "execution_count": null,
   "metadata": {},
   "outputs": [],
   "source": [
    " "
   ]
  },
  {
   "cell_type": "code",
   "execution_count": null,
   "metadata": {},
   "outputs": [],
   "source": []
  },
  {
   "cell_type": "code",
   "execution_count": null,
   "metadata": {},
   "outputs": [],
   "source": []
  },
  {
   "cell_type": "code",
   "execution_count": null,
   "metadata": {},
   "outputs": [],
   "source": []
  },
  {
   "cell_type": "code",
   "execution_count": null,
   "metadata": {},
   "outputs": [],
   "source": []
  },
  {
   "cell_type": "code",
   "execution_count": null,
   "metadata": {},
   "outputs": [],
   "source": []
  },
  {
   "cell_type": "code",
   "execution_count": null,
   "metadata": {},
   "outputs": [],
   "source": []
  },
  {
   "cell_type": "code",
   "execution_count": null,
   "metadata": {},
   "outputs": [],
   "source": []
  },
  {
   "cell_type": "code",
   "execution_count": 3,
   "metadata": {},
   "outputs": [],
   "source": [
    "t.GraphClean()"
   ]
  },
  {
   "cell_type": "code",
   "execution_count": 4,
   "metadata": {},
   "outputs": [],
   "source": [
    "aaaa='dfdfdf\"'"
   ]
  },
  {
   "cell_type": "code",
   "execution_count": 11,
   "metadata": {},
   "outputs": [
    {
     "data": {
      "text/plain": [
       "'fff'"
      ]
     },
     "execution_count": 11,
     "metadata": {},
     "output_type": "execute_result"
    }
   ],
   "source": [
    "aaaa.rstrip('d')\n",
    "aaaa.replace('d', '').replace('\"', '')"
   ]
  },
  {
   "cell_type": "markdown",
   "metadata": {},
   "source": [
    "# 远程导入"
   ]
  },
  {
   "cell_type": "code",
   "execution_count": 24,
   "metadata": {},
   "outputs": [
    {
     "data": {
      "text/plain": [
       "[]"
      ]
     },
     "execution_count": 24,
     "metadata": {},
     "output_type": "execute_result"
    }
   ],
   "source": [
    "t.cql(''' \n",
    "USING PERIODIC COMMIT 100 LOAD CSV FROM \"file:///practice/actors.csv\" AS line create (a:actors{personId:line[0],name:line[1],type:line[2]})\n",
    " '''  \n",
    ")"
   ]
  },
  {
   "cell_type": "code",
   "execution_count": null,
   "metadata": {},
   "outputs": [],
   "source": []
  },
  {
   "cell_type": "code",
   "execution_count": null,
   "metadata": {},
   "outputs": [],
   "source": []
  }
 ],
 "metadata": {
  "kernelspec": {
   "display_name": "Python 3",
   "language": "python",
   "name": "python3"
  },
  "language_info": {
   "codemirror_mode": {
    "name": "ipython",
    "version": 3
   },
   "file_extension": ".py",
   "mimetype": "text/x-python",
   "name": "python",
   "nbconvert_exporter": "python",
   "pygments_lexer": "ipython3",
   "version": "3.7.3"
  }
 },
 "nbformat": 4,
 "nbformat_minor": 2
}
