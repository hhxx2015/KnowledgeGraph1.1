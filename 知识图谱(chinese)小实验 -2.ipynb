{
 "cells": [
  {
   "cell_type": "code",
   "execution_count": 1,
   "metadata": {},
   "outputs": [],
   "source": [
    "import json\n",
    "class Neo4jGraph():\n",
    "    def __init__(self, login):\n",
    "        self.graph = None\n",
    "        self._ip = login.split('-')[0]\n",
    "        self._username = login.split('-')[1]\n",
    "        self._password = login.split('-')[2]\n",
    "        self.CQL = ''\n",
    "    def con(self):\n",
    "        from py2neo import Graph, Node, Relationship, NodeMatcher\n",
    "        self.graph = Graph(self._ip, username=self._username, password=self._password)\n",
    "        return self.graph\n",
    "    def cql(self, string):\n",
    "        return self.graph.run(string).data()\n",
    "function_blue_colorflat=1\n",
    "def blue(string):\n",
    "    global function_blue_colorflat\n",
    "    if function_blue_colorflat==0:\n",
    "        # function_blue_colorflat=1\n",
    "        return ('\\033[0;35;48m'+string+'\\033[0m')\n",
    "    else:\n",
    "        # function_blue_colorflat = 0\n",
    "        return ('\\033[0;34;48m' + string + '\\033[0m')\n",
    "connection = \"http://localhost:7474-neo4j-123456\"\n",
    "graph = Neo4jGraph(connection)\n",
    "graph.con()\n",
    "def getNode(Parameters):\n",
    "    cql = \"match (n:Node{NodeId:'\"+Parameters+\"'})  return n\"\n",
    "    res=graph.cql(cql)\n",
    "    return res\n",
    "def getdescribe(Parameters):\n",
    "    cql = \"match (n:Node{NodeId:'\"+Parameters+\"'}) where n.describe is not null return n\"\n",
    "    res=graph.cql(cql)\n",
    "    return res\n",
    "def getWords(centence):\n",
    "    wordlist=[]\n",
    "    p=-1\n",
    "    while p<len(centence):\n",
    "        p+=1\n",
    "        if centence[p:p+1] in ['的','是','和','：','，','。','（','）'] :\n",
    "#             print('222')\n",
    "            continue\n",
    "        if p+10<=len(centence):\n",
    "            for q in range(p+10, p, -1):\n",
    "                node = getNode(centence[p:q])\n",
    "                if len(node) != 0:\n",
    "                    if len(centence[p:q])>=2:\n",
    "                        wordlist.append(centence[p:q])\n",
    "                    p = q\n",
    "                    p -= 1\n",
    "        else:\n",
    "            for q in range(len(centence), p, -1):\n",
    "                node = getNode(centence[p:q])\n",
    "                if len(node) != 0:\n",
    "                    if len(centence[p:q]) >= 2:\n",
    "                        wordlist.append(centence[p:q])\n",
    "                    p = q\n",
    "                    p -= 1\n",
    "    return wordlist\n",
    "def priblue(centence,wordlist):\n",
    "    centence1=centence\n",
    "    centence2=''\n",
    "    for i in wordlist:\n",
    "        centence2+=i\n",
    "    p=0\n",
    "    q=0\n",
    "    while p<len(centence1):\n",
    "        if centence1[p:p+1]==centence2[q:q+1]:\n",
    "            print(blue(centence1[p:p+1]),end='')\n",
    "            p+=1\n",
    "            q+=1\n",
    "        else:\n",
    "            print((centence1[p:p+1]),end='')\n",
    "            p=p+1\n",
    "    print('')\n",
    "def lable_count(wordlist):\n",
    "    lable_dic={}\n",
    "    for node in wordlist:\n",
    "        lablelist=graph.cql(\"match (n:Node{NodeId:'\"+node+\"'}) return labels(n)\")[0]['labels(n)']\n",
    "        for lable in lablelist:\n",
    "#             print(lable)\n",
    "            count=lable_dic.get(lable, 0)\n",
    "            lable_dic[lable]=count+1\n",
    "    for i in ['Node']:\n",
    "        if i in lable_dic:\n",
    "            lable_dic.pop(i)\n",
    "    return sorted(lable_dic.items(), key = lambda kv:(kv[1], kv[0]),reverse=True)\n",
    "def Recommender_system(lablelist,n):\n",
    "    \n",
    "    for count in range(len(lablelist)-1,-1,-1):\n",
    "        lables=''\n",
    "        for i in range(count):\n",
    "            lables+=':'+lablelist[i][0]\n",
    "        cql='match (n'+lables+') return n.NodeId limit '+str(n)\n",
    "        nodes=graph.cql(cql)\n",
    "        if len(nodes)!=0:\n",
    "            return nodes\n",
    "def recog(string):\n",
    "    wordlist=getWords(string)\n",
    "    print(string,end='')\n",
    "    print('='*50+'List'+'='*50+'\\n',wordlist)\n",
    "    lable_list=lable_count(wordlist)\n",
    "    print('='*50+'Lable'+'='*50+'\\n',lable_list)\n",
    "    recommender_system=Recommender_system(lable_list,10)\n",
    "    print('='*50+'RecommenderSystem'+'='*50)\n",
    "    for i in recommender_system:\n",
    "        print(i)\n",
    "def Nodelist(string):\n",
    "    wordlist=getWords(string)\n",
    "    priblue(string,wordlist)\n",
    "#     print(string,end='')\n",
    "    print('='*50+'List'+'='*50+'\\n',wordlist)\n",
    "def Nodelable(string):\n",
    "    wordlist=getWords(string)\n",
    "    lable_list=lable_count(wordlist)\n",
    "    print('='*50+'Lable'+'='*50)\n",
    "    for i in lable_list:\n",
    "        print(i)\n",
    "def RecommendSys(string):\n",
    "    wordlist=getWords(string)\n",
    "    lable_list=lable_count(wordlist)\n",
    "    recommender_system=Recommender_system(lable_list,10)\n",
    "    print('='*50+'RecommenderSystem'+'='*50)\n",
    "    for i in recommender_system:\n",
    "        print(i)\n",
    "        \n",
    "# 推理\n",
    "def fanyi(string):\n",
    "    from 有道API import youdaoAPI\n",
    "    ss=youdaoAPI.youdaofanyi(string)\n",
    "    t = ss.split(' ')\n",
    "    for i in range(len(t)):\n",
    "        if i != 0:\n",
    "            t[i] = t[i].capitalize()\n",
    "    s = ''\n",
    "    for i in t:\n",
    "        s += i\n",
    "    return s\n",
    "\n",
    "def addWords(string):\n",
    "    graph.cql(\"merge (n:Node{NodeId:'\"+string+\"'}) return n\")\n",
    "def logic(string):\n",
    "#     print('答：')\n",
    "    s=['是','有','什么','哪些','谁','多少']\n",
    "    trans_en=[]\n",
    "    for i in s:\n",
    "        string=string.replace(i,'')\n",
    "    wordlist=getWords(string)\n",
    "#     print(wordlist)\n",
    "    for i in wordlist:\n",
    "#         print()\n",
    "        trans_en.append(fanyi(i))\n",
    "    if len(wordlist)==1:\n",
    "        describe=getdescribe(wordlist[0])\n",
    "        if len(describe)!=0:\n",
    "            line=str(describe).split(\"describe='\")\n",
    "            print(line[1][:line[1].find(\"'\")])\n",
    "    if len(wordlist)>=2:\n",
    "        res=graph.cql(\"match (a:Node{NodeId:'\"+wordlist[0]+\"'})-[c:\"+trans_en[1]+\"]->(b) return b\")\n",
    "        list_ans=[]\n",
    "        for i in res:\n",
    "            line=str(i)\n",
    "            one=line[line.find(\"NodeId='\")+len(\"NodeId='\"):line.find(\"'\",line.find(\"NodeId='\")+len(\"NodeId='\"))]\n",
    "            if one not in list_ans:\n",
    "                list_ans.append(one)\n",
    "#         print('A:',end='')\n",
    "        for i in list_ans:\n",
    "            print(i)\n",
    "#         print(list_ans)  \n",
    "# 属性\n",
    "def property(NodeId):\n",
    "    res=graph.cql(\"match (a:Node{NodeId:'\"+NodeId+\"'})-[c]->(b:Node) return c\")\n",
    "    pros=[]\n",
    "    for i in res:\n",
    "        line=str(i).split(\"NodeId\")\n",
    "        pros.append([line[0][line[0].find(\"'c': \")+len(\"'c': \"):line[0].find(\"(Node\")],line[2][line[2].find(\"='\")+len(\"='\"):line[2].find(\"'\",2)]])\n",
    "    \n",
    "    for i in pros:\n",
    "        print(' : '.join(i))\n",
    "#     print(pros)\n",
    "def QA_test():\n",
    "    question=input(' '*40+'Q:')\n",
    "    while question!='bye':\n",
    "        print('-'*100+'\\nA: ',end='')\n",
    "        logic(question)\n",
    "        question=input(' '*40+'Q:')\n",
    "    print('Bye!')\n",
    "        \n"
   ]
  },
  {
   "cell_type": "markdown",
   "metadata": {},
   "source": [
    "# 搜索之实体识别"
   ]
  },
  {
   "cell_type": "markdown",
   "metadata": {},
   "source": [
    "### Part 1"
   ]
  },
  {
   "cell_type": "code",
   "execution_count": 2,
   "metadata": {},
   "outputs": [],
   "source": [
    "# Entity recognition\n",
    "string1='''\n",
    "Facebook（脸书）公司创立于2004年2月4日，总部位于美国加利福尼亚州门洛帕克。\n",
    "'''"
   ]
  },
  {
   "cell_type": "code",
   "execution_count": 3,
   "metadata": {},
   "outputs": [
    {
     "name": "stdout",
     "output_type": "stream",
     "text": [
      "\n",
      "\u001b[0;34;48mF\u001b[0m\u001b[0;34;48ma\u001b[0m\u001b[0;34;48mc\u001b[0m\u001b[0;34;48me\u001b[0m\u001b[0;34;48mb\u001b[0m\u001b[0;34;48mo\u001b[0m\u001b[0;34;48mo\u001b[0m\u001b[0;34;48mk\u001b[0m（\u001b[0;34;48m脸\u001b[0m\u001b[0;34;48m书\u001b[0m）\u001b[0;34;48m公\u001b[0m\u001b[0;34;48m司\u001b[0m\u001b[0;34;48m创\u001b[0m\u001b[0;34;48m立\u001b[0m\u001b[0;34;48m于\u001b[0m\u001b[0;34;48m2\u001b[0m\u001b[0;34;48m0\u001b[0m\u001b[0;34;48m0\u001b[0m\u001b[0;34;48m4\u001b[0m\u001b[0;34;48m年\u001b[0m\u001b[0;34;48m2\u001b[0m\u001b[0;34;48m月\u001b[0m\u001b[0;34;48m4\u001b[0m\u001b[0;34;48m日\u001b[0m，\u001b[0;34;48m总\u001b[0m\u001b[0;34;48m部\u001b[0m\u001b[0;34;48m位\u001b[0m\u001b[0;34;48m于\u001b[0m\u001b[0;34;48m美\u001b[0m\u001b[0;34;48m国\u001b[0m\u001b[0;34;48m加\u001b[0m\u001b[0;34;48m利\u001b[0m\u001b[0;34;48m福\u001b[0m\u001b[0;34;48m尼\u001b[0m\u001b[0;34;48m亚\u001b[0m\u001b[0;34;48m州\u001b[0m\u001b[0;34;48m门\u001b[0m\u001b[0;34;48m洛\u001b[0m\u001b[0;34;48m帕\u001b[0m\u001b[0;34;48m克\u001b[0m。\n",
      "\n",
      "==================================================List==================================================\n",
      " ['Facebook', '脸书', '公司', '创立于2004年', '2月4日', '总部', '位于美国加利福尼亚州', '门洛帕克']\n"
     ]
    }
   ],
   "source": [
    "Nodelist(string1)"
   ]
  },
  {
   "cell_type": "code",
   "execution_count": 4,
   "metadata": {},
   "outputs": [
    {
     "name": "stdout",
     "output_type": "stream",
     "text": [
      "==================================================Lable==================================================\n",
      "('组织机构', 2)\n",
      "('公司', 2)\n",
      "('节日', 1)\n",
      "('网站', 1)\n",
      "('法律术语', 1)\n",
      "('外国行政区划', 1)\n",
      "('地理', 1)\n",
      "('地点', 1)\n",
      "('历史年代', 1)\n",
      "('历史', 1)\n"
     ]
    }
   ],
   "source": [
    "Nodelable(string1)"
   ]
  },
  {
   "cell_type": "code",
   "execution_count": 5,
   "metadata": {},
   "outputs": [
    {
     "name": "stdout",
     "output_type": "stream",
     "text": [
      "==================================================RecommenderSystem==================================================\n",
      "{'n.NodeId': '株式会社'}\n",
      "{'n.NodeId': '上市公司'}\n",
      "{'n.NodeId': '7-11日本伊藤洋华堂公司所属便利店'}\n",
      "{'n.NodeId': '联想集团'}\n",
      "{'n.NodeId': '微软'}\n",
      "{'n.NodeId': '宝马汽车品牌'}\n",
      "{'n.NodeId': '河北巨龙药业有限责任公司'}\n",
      "{'n.NodeId': '石家庄众美广告'}\n",
      "{'n.NodeId': '空中客车公司'}\n",
      "{'n.NodeId': '波音美国航空航天制造公司'}\n"
     ]
    }
   ],
   "source": [
    "RecommendSys(string1)"
   ]
  },
  {
   "cell_type": "markdown",
   "metadata": {},
   "source": [
    "###  Part 2"
   ]
  },
  {
   "cell_type": "code",
   "execution_count": 6,
   "metadata": {},
   "outputs": [],
   "source": [
    "# Entity recognition\n",
    "string2='''\n",
    "《再别康桥》是现代诗人徐志摩脍炙人口的诗篇，是新月派诗歌的代表作品。\n",
    "'''"
   ]
  },
  {
   "cell_type": "code",
   "execution_count": 7,
   "metadata": {},
   "outputs": [
    {
     "name": "stdout",
     "output_type": "stream",
     "text": [
      "\n",
      "\u001b[0;34;48m《\u001b[0m\u001b[0;34;48m再\u001b[0m\u001b[0;34;48m别\u001b[0m\u001b[0;34;48m康\u001b[0m\u001b[0;34;48m桥\u001b[0m\u001b[0;34;48m》\u001b[0m是\u001b[0;34;48m现\u001b[0m\u001b[0;34;48m代\u001b[0m\u001b[0;34;48m诗\u001b[0m\u001b[0;34;48m人\u001b[0m\u001b[0;34;48m徐\u001b[0m\u001b[0;34;48m志\u001b[0m\u001b[0;34;48m摩\u001b[0m\u001b[0;34;48m脍\u001b[0m\u001b[0;34;48m炙\u001b[0m\u001b[0;34;48m人\u001b[0m\u001b[0;34;48m口\u001b[0m的\u001b[0;34;48m诗\u001b[0m\u001b[0;34;48m篇\u001b[0m，是\u001b[0;34;48m新\u001b[0m\u001b[0;34;48m月\u001b[0m\u001b[0;34;48m派\u001b[0m\u001b[0;34;48m诗\u001b[0m\u001b[0;34;48m歌\u001b[0m的\u001b[0;34;48m代\u001b[0m\u001b[0;34;48m表\u001b[0m\u001b[0;34;48m作\u001b[0m\u001b[0;34;48m品\u001b[0m。\n",
      "\n",
      "==================================================List==================================================\n",
      " ['《再别康桥》', '现代诗人', '徐志摩', '脍炙人口', '诗篇', '新月派诗歌', '代表作品']\n"
     ]
    }
   ],
   "source": [
    "Nodelist(string2)"
   ]
  },
  {
   "cell_type": "code",
   "execution_count": 8,
   "metadata": {},
   "outputs": [
    {
     "name": "stdout",
     "output_type": "stream",
     "text": [
      "==================================================Lable==================================================\n",
      "('书籍', 2)\n",
      "('诗词', 1)\n",
      "('文学作品', 1)\n",
      "('文化', 1)\n",
      "('成语', 1)\n",
      "('字词', 1)\n",
      "('出版物', 1)\n",
      "('中国文学', 1)\n"
     ]
    }
   ],
   "source": [
    "Nodelable(string2)"
   ]
  },
  {
   "cell_type": "code",
   "execution_count": 9,
   "metadata": {},
   "outputs": [
    {
     "name": "stdout",
     "output_type": "stream",
     "text": [
      "==================================================RecommenderSystem==================================================\n",
      "{'n.NodeId': '斋居春久感事遣怀'}\n",
      "{'n.NodeId': '不与老为期'}\n",
      "{'n.NodeId': '得潮州杨相公继之书并诗以此寄之'}\n",
      "{'n.NodeId': '贺新郎词牌名'}\n",
      "{'n.NodeId': '一骑红尘妃子笑'}\n",
      "{'n.NodeId': '箜篌引诗歌作品'}\n",
      "{'n.NodeId': '隐括词'}\n",
      "{'n.NodeId': '古风·大雅久不作'}\n",
      "{'n.NodeId': '应天长'}\n",
      "{'n.NodeId': '喝火令'}\n"
     ]
    }
   ],
   "source": [
    "RecommendSys(string2)"
   ]
  },
  {
   "cell_type": "markdown",
   "metadata": {},
   "source": [
    "# 识别段落中的实体"
   ]
  },
  {
   "cell_type": "code",
   "execution_count": 2,
   "metadata": {},
   "outputs": [
    {
     "name": "stdout",
     "output_type": "stream",
     "text": [
      "P:Facebook（脸书，脸谱网）公司创立于2004年2月4日，总部位于美国加利福尼亚州门洛帕克。\n",
      "\u001b[0;34;48mF\u001b[0m\u001b[0;34;48ma\u001b[0m\u001b[0;34;48mc\u001b[0m\u001b[0;34;48me\u001b[0m\u001b[0;34;48mb\u001b[0m\u001b[0;34;48mo\u001b[0m\u001b[0;34;48mo\u001b[0m\u001b[0;34;48mk\u001b[0m（\u001b[0;34;48m脸\u001b[0m\u001b[0;34;48m书\u001b[0m，\u001b[0;34;48m脸\u001b[0m\u001b[0;34;48m谱\u001b[0m网）\u001b[0;34;48m公\u001b[0m\u001b[0;34;48m司\u001b[0m\u001b[0;34;48m创\u001b[0m\u001b[0;34;48m立\u001b[0m\u001b[0;34;48m于\u001b[0m\u001b[0;34;48m2\u001b[0m\u001b[0;34;48m0\u001b[0m\u001b[0;34;48m0\u001b[0m\u001b[0;34;48m4\u001b[0m\u001b[0;34;48m年\u001b[0m\u001b[0;34;48m2\u001b[0m\u001b[0;34;48m月\u001b[0m\u001b[0;34;48m4\u001b[0m\u001b[0;34;48m日\u001b[0m，\u001b[0;34;48m总\u001b[0m\u001b[0;34;48m部\u001b[0m\u001b[0;34;48m位\u001b[0m\u001b[0;34;48m于\u001b[0m\u001b[0;34;48m美\u001b[0m\u001b[0;34;48m国\u001b[0m\u001b[0;34;48m加\u001b[0m\u001b[0;34;48m利\u001b[0m\u001b[0;34;48m福\u001b[0m\u001b[0;34;48m尼\u001b[0m\u001b[0;34;48m亚\u001b[0m\u001b[0;34;48m州\u001b[0m\u001b[0;34;48m门\u001b[0m\u001b[0;34;48m洛\u001b[0m\u001b[0;34;48m帕\u001b[0m\u001b[0;34;48m克\u001b[0m。\n",
      "==================================================List==================================================\n",
      " ['Facebook', '脸书', '脸谱', '公司', '创立于2004年', '2月4日', '总部', '位于美国加利福尼亚州', '门洛帕克']\n"
     ]
    }
   ],
   "source": [
    "Nodelist(input(\"P:\"))"
   ]
  },
  {
   "cell_type": "markdown",
   "metadata": {},
   "source": [
    "# 段落标签排序"
   ]
  },
  {
   "cell_type": "code",
   "execution_count": 3,
   "metadata": {
    "scrolled": true
   },
   "outputs": [
    {
     "name": "stdout",
     "output_type": "stream",
     "text": [
      "P:Facebook（脸书，脸谱网）公司创立于2004年2月4日，总部位于美国加利福尼亚州门洛帕克。\n",
      "==================================================Lable==================================================\n",
      "('组织机构', 2)\n",
      "('公司', 2)\n",
      "('节日', 1)\n",
      "('网站', 1)\n",
      "('法律术语', 1)\n",
      "('外国行政区划', 1)\n",
      "('地理', 1)\n",
      "('地点', 1)\n",
      "('历史年代', 1)\n",
      "('历史', 1)\n"
     ]
    }
   ],
   "source": [
    "Nodelable(input(\"P:\"))"
   ]
  },
  {
   "cell_type": "markdown",
   "metadata": {},
   "source": [
    "# 基于标签的实体推荐"
   ]
  },
  {
   "cell_type": "code",
   "execution_count": 4,
   "metadata": {},
   "outputs": [
    {
     "name": "stdout",
     "output_type": "stream",
     "text": [
      "P:Facebook（脸书，脸谱网）公司创立于2004年2月4日，总部位于美国加利福尼亚州门洛帕克。\n",
      "==================================================RecommenderSystem==================================================\n",
      "{'n.NodeId': '株式会社'}\n",
      "{'n.NodeId': '上市公司'}\n",
      "{'n.NodeId': '7-11日本伊藤洋华堂公司所属便利店'}\n",
      "{'n.NodeId': '联想集团'}\n",
      "{'n.NodeId': '微软'}\n",
      "{'n.NodeId': '宝马汽车品牌'}\n",
      "{'n.NodeId': '河北巨龙药业有限责任公司'}\n",
      "{'n.NodeId': '石家庄众美广告'}\n",
      "{'n.NodeId': '空中客车公司'}\n",
      "{'n.NodeId': '波音美国航空航天制造公司'}\n"
     ]
    }
   ],
   "source": [
    "RecommendSys(input(\"P:\"))"
   ]
  },
  {
   "cell_type": "markdown",
   "metadata": {},
   "source": [
    "# 属性"
   ]
  },
  {
   "cell_type": "code",
   "execution_count": 5,
   "metadata": {},
   "outputs": [
    {
     "name": "stdout",
     "output_type": "stream",
     "text": [
      "Node:肉\n",
      "ChineseName : 《肉》\n",
      "ForeignNames : flesh;meat;KangXiradical\n",
      "category : 剧情\n",
      "pinyin : ròu\n",
      "TheDirector : 保罗·莫里西\n",
      "TheWriters : 保罗·莫里西\n",
      "starring : 乔·达拉斯安铎、杰拉尔丁·史密斯\n",
      "PhoneticNotation : ㄖㄡˋ\n",
      "structure : 单一结构\n",
      "radical : 肉\n",
      "radical : 肉\n",
      "stroke : 6\n",
      "stroke : 6\n",
      "ReleaseArea : 美国\n",
      "LanguageVersion : 普通话\n",
      "LanguageVersion : 普通话\n",
      "ThePictureColor : 彩色\n",
      "ThePictureColor : 彩色\n",
      "AmbiguousRelationship : 肉[谢天笑演唱歌曲]\n",
      "AmbiguousRelationship : 肉[MC半阳原创歌曲]\n",
      "AmbiguousRelationship : 肉[刘润洁演唱歌曲]\n",
      "AmbiguousRelationship : 肉[肉类总称]\n",
      "AmbiguousRelationship : 肉[汉字]\n",
      "ChineseName : 《肉》\n",
      "ForeignNames : flesh;meat;KangXiradical\n",
      "category : 剧情\n",
      "pinyin : ròu\n",
      "TheDirector : 保罗·莫里西\n",
      "TheWriters : 保罗·莫里西\n",
      "starring : 乔·达拉斯安铎、杰拉尔丁·史密斯\n",
      "PhoneticNotation : ㄖㄡˋ\n",
      "structure : 单一结构\n",
      "radical : 肉\n",
      "radical : 肉\n",
      "stroke : 6\n",
      "stroke : 6\n",
      "ReleaseArea : 美国\n",
      "LanguageVersion : 普通话\n",
      "LanguageVersion : 普通话\n",
      "ThePictureColor : 彩色\n",
      "ThePictureColor : 彩色\n",
      "AmbiguousRelationship : 肉[谢天笑演唱歌曲]\n",
      "AmbiguousRelationship : 肉[MC半阳原创歌曲]\n",
      "AmbiguousRelationship : 肉[刘润洁演唱歌曲]\n",
      "AmbiguousRelationship : 肉[肉类总称]\n",
      "AmbiguousRelationship : 肉[汉字]\n"
     ]
    }
   ],
   "source": [
    "property(input(\"Node:\"))"
   ]
  },
  {
   "cell_type": "markdown",
   "metadata": {},
   "source": [
    "# 推理"
   ]
  },
  {
   "cell_type": "code",
   "execution_count": 9,
   "metadata": {},
   "outputs": [
    {
     "name": "stdout",
     "output_type": "stream",
     "text": [
      "                                        Q:宇智波鼬的身高？\n",
      "----------------------------------------------------------------------------------------------------\n",
      "A: 175.2cm→178cm\n",
      "                                        Q:须佐能乎·十拳剑的使用者\n",
      "----------------------------------------------------------------------------------------------------\n",
      "A: 鼬\n",
      "                                        Q:多糖体是什么\n",
      "----------------------------------------------------------------------------------------------------\n",
      "A: 多糖体是一种长链糖，多种菇类及其菌丝都富含多糖体，对人体免疫系统极其有益。\n",
      "                                        Q:周杰伦住哪\n",
      "----------------------------------------------------------------------------------------------------\n",
      "A: 周杰伦（JayChou），1979年1月18日出生于台湾省新北市，中国台湾流行乐男歌手、音乐人、演员、导演、编剧、监制、商人。\n",
      "                                        Q:周杰伦是谁\n",
      "----------------------------------------------------------------------------------------------------\n",
      "A: 周杰伦（JayChou），1979年1月18日出生于台湾省新北市，中国台湾流行乐男歌手、音乐人、演员、导演、编剧、监制、商人。\n",
      "                                        Q:周杰伦的血型\n",
      "----------------------------------------------------------------------------------------------------\n",
      "A: O型\n",
      "                                        Q:bye\n",
      "Bye!\n"
     ]
    }
   ],
   "source": [
    "QA_test()"
   ]
  }
 ],
 "metadata": {
  "kernelspec": {
   "display_name": "Python 3",
   "language": "python",
   "name": "python3"
  },
  "language_info": {
   "codemirror_mode": {
    "name": "ipython",
    "version": 3
   },
   "file_extension": ".py",
   "mimetype": "text/x-python",
   "name": "python",
   "nbconvert_exporter": "python",
   "pygments_lexer": "ipython3",
   "version": "3.7.3"
  }
 },
 "nbformat": 4,
 "nbformat_minor": 2
}
