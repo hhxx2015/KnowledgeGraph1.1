{
 "cells": [
  {
   "cell_type": "code",
   "execution_count": 1,
   "metadata": {},
   "outputs": [],
   "source": [
    "# 翻译模块\n",
    "def fanyi(string,chi=0):\n",
    "    from 有道API import youdaoAPI\n",
    "    return youdaoAPI.youdaofanyi(string,chi)\n",
    " \n",
    "\n",
    "# 知识图谱模块\n",
    "class Neo4jGraph():\n",
    "    def __init__(self,login):\n",
    "        self.graph=None\n",
    "        self._ip=login.split('-')[0]\n",
    "        self._username=login.split('-')[1]\n",
    "        self._password=login.split('-')[2]\n",
    "        self.CQL=''\n",
    "    def con(self):\n",
    "        from py2neo import Graph, Node, Relationship, NodeMatcher \n",
    "        self.graph=Graph(self._ip,username=self._username,password=self._password)\n",
    "        return self.graph\n",
    "    def cql(self,string):\n",
    "        return self.graph.run(string).data()\n",
    "    def GraphClean(self):\n",
    "        self.graph.delete_all()\n",
    "# 连接知识图谱\n",
    "connection=\"http://localhost:7474-neo4-123456\"\n",
    "graph=Neo4jGraph(connection)\n",
    "graph.con()\n",
    "\n",
    "# 分词模块\n",
    "import jieba\n",
    "def search_1(string):\n",
    "    return list(jieba.cut(string, cut_all=True))\n",
    "def search_2(string):\n",
    "    return list(jieba.cut(string, cut_all=False))\n",
    "def search_3(string):\n",
    "    return list(jieba.cut_for_search(string))\n"
   ]
  },
  {
   "cell_type": "code",
   "execution_count": 2,
   "metadata": {},
   "outputs": [
    {
     "data": {
      "text/plain": [
       "'Play the role of'"
      ]
     },
     "execution_count": 2,
     "metadata": {},
     "output_type": "execute_result"
    }
   ],
   "source": [
    "fanyi('饰演')"
   ]
  },
  {
   "cell_type": "code",
   "execution_count": 24,
   "metadata": {},
   "outputs": [
    {
     "data": {
      "text/plain": [
       "['星驰', '周星驰', '饰演', '过', '什么', '电影', '？']"
      ]
     },
     "execution_count": 24,
     "metadata": {},
     "output_type": "execute_result"
    }
   ],
   "source": [
    "search_3(\"周星驰饰演过什么电影？\")"
   ]
  },
  {
   "cell_type": "code",
   "execution_count": 8,
   "metadata": {},
   "outputs": [
    {
     "data": {
      "text/plain": [
       "['theMainWork', '？']"
      ]
     },
     "execution_count": 8,
     "metadata": {},
     "output_type": "execute_result"
    }
   ],
   "source": [
    "search_1(\"theMainWork？\")"
   ]
  },
  {
   "cell_type": "code",
   "execution_count": 6,
   "metadata": {},
   "outputs": [
    {
     "data": {
      "text/plain": [
       "'theMainWork'"
      ]
     },
     "execution_count": 6,
     "metadata": {},
     "output_type": "execute_result"
    }
   ],
   "source": [
    "\n",
    "fanyi('theMainWork',0)"
   ]
  },
  {
   "cell_type": "code",
   "execution_count": 25,
   "metadata": {},
   "outputs": [
    {
     "data": {
      "text/plain": [
       "[{'n': Node('Node', '人物', '娱乐人物', '导演', '演员', '编剧', NodeId='周星驰', describe='周星驰，1962年6月22日生于香港，祖籍浙江宁波，中国香港演员、导演、编剧、制作人、商人，毕业于无线电视艺员训练班。')}]"
      ]
     },
     "execution_count": 25,
     "metadata": {},
     "output_type": "execute_result"
    }
   ],
   "source": [
    "graph.cql(\"match (n:Node{NodeId:'周星驰'}) return n\")"
   ]
  },
  {
   "cell_type": "code",
   "execution_count": 22,
   "metadata": {},
   "outputs": [
    {
     "data": {
      "text/plain": [
       "[{'c': professional(Node('Node', '人物', '娱乐人物', '导演', '演员', '编剧', NodeId='周星驰', describe='周星驰，1962年6月22日生于香港，祖籍浙江宁波，中国香港演员、导演、编剧、制作人、商人，毕业于无线电视艺员训练班。'), Node('Node', '电影', '社会', NodeId='监制', describe='监制（jiānzhì，ExecutiveProducer）是电影工业中不为人知的核心角色，他们负责电影的日常运作与策划。'))},\n",
       " {'c': professional(Node('Node', '人物', '娱乐人物', '导演', '演员', '编剧', NodeId='周星驰', describe='周星驰，1962年6月22日生于香港，祖籍浙江宁波，中国香港演员、导演、编剧、制作人、商人，毕业于无线电视艺员训练班。'), Node('Node', '电影', NodeId='出品人', describe='出品人负责影片前期的市场调查，看类似的影片的电影市场是否有前景（比如说票房情况、受欢迎程度、续集的可能性等），通过调查来决定是否值得出品该影片。'))},\n",
       " {'c': RepresentativeWorks(Node('Node', '人物', '娱乐人物', '导演', '演员', '编剧', NodeId='周星驰', describe='周星驰，1962年6月22日生于香港，祖籍浙江宁波，中国香港演员、导演、编剧、制作人、商人，毕业于无线电视艺员训练班。'), Node('Node', '剧情电影', '喜剧电影', '娱乐作品', '电影', '电影作品', '科幻电影', NodeId='长江7号', describe='《长江7号》是由周星驰执导，周星驰、徐娇、张雨绮、林子聪主演的科幻喜剧电影。'))},\n",
       " {'c': TheMainWork(Node('Node', '人物', '娱乐人物', '导演', '演员', '编剧', NodeId='周星驰', describe='周星驰，1962年6月22日生于香港，祖籍浙江宁波，中国香港演员、导演、编剧、制作人、商人，毕业于无线电视艺员训练班。'), Node('Node', '剧情电影', '娱乐作品', '电影', '电影作品', NodeId='活力十一', describe='香港无线电视台（TVB）巨星单元剧，由梁朝伟、周星驰、吴镇宇等主演。'))},\n",
       " {'c': TheMainWork(Node('Node', '人物', '娱乐人物', '导演', '演员', '编剧', NodeId='周星驰', describe='周星驰，1962年6月22日生于香港，祖籍浙江宁波，中国香港演员、导演、编剧、制作人、商人，毕业于无线电视艺员训练班。'), Node('Node', '剧情电影', '娱乐作品', '电影', '电影作品', NodeId='活力十一', describe='《活力十一》，周星驰，梁朝伟等主演的一部电视连续剧。'))},\n",
       " {'c': TheMainWork(Node('Node', '人物', '娱乐人物', '导演', '演员', '编剧', NodeId='周星驰', describe='周星驰，1962年6月22日生于香港，祖籍浙江宁波，中国香港演员、导演、编剧、制作人、商人，毕业于无线电视艺员训练班。'), Node('Node', '剧情电影', '娱乐作品', '电影', '电影作品', NodeId='丈夫出走了', describe='这是一部周星驰当年还是一个小小龙套参演的单元剧，当年青涩的他和吴镇宇，在电影中展露头角。'))},\n",
       " {'c': TheMainWork(Node('Node', '人物', '娱乐人物', '导演', '演员', '编剧', NodeId='周星驰', describe='周星驰，1962年6月22日生于香港，祖籍浙江宁波，中国香港演员、导演、编剧、制作人、商人，毕业于无线电视艺员训练班。'), Node('Node', '剧情剧', '娱乐作品', '犯罪剧', '电影', '电视剧', '电视剧作品', NodeId='无冕急先锋', describe='《无冕急先锋》是由（MoMinKapSinFung）是由李鼎伦、李国立、黄有全、吴振秋执导，邵仲衡、黎美娴、吴镇宇、曾江、甄子丹、周星驰主演的一部时装恩仇类型的电视剧，共20集，由香港无线电视（TVB）出品，在1988年拍摄，1989年5月1日首播。'))},\n",
       " {'c': TheMainWork(Node('Node', '人物', '娱乐人物', '导演', '演员', '编剧', NodeId='周星驰', describe='周星驰，1962年6月22日生于香港，祖籍浙江宁波，中国香港演员、导演、编剧、制作人、商人，毕业于无线电视艺员训练班。'), Node('Node', '动作电影', '电影', '电影作品', NodeId='霹雳先锋', describe='影片《霹雳先锋》是周星驰的电影成名作，身为制作人的李修贤提拔星仔出演了该片的主要角色，给了他发挥自己演技的余地。'))},\n",
       " {'c': TheMainWork(Node('Node', '人物', '娱乐人物', '导演', '演员', '编剧', NodeId='周星驰', describe='周星驰，1962年6月22日生于香港，祖籍浙江宁波，中国香港演员、导演、编剧、制作人、商人，毕业于无线电视艺员训练班。'), Node('Node', '动作电影', '电影', '电影作品', NodeId='霹雳先锋', describe='《霹雳先锋》（《FinalJustice》）是黄柏文执导，周星驰、李修贤等主演的动作片，1988年由万能影业有限公司出品，获第25届台湾电影金马奖最佳男配角奖。'))},\n",
       " {'c': TheMainWork(Node('Node', '人物', '娱乐人物', '导演', '演员', '编剧', NodeId='周星驰', describe='周星驰，1962年6月22日生于香港，祖籍浙江宁波，中国香港演员、导演、编剧、制作人、商人，毕业于无线电视艺员训练班。'), Node('Node', '动作电影', '惊悚电影', '电影', '电影作品', NodeId='义胆群英', describe='《义胆群英》是由吴宇森导演的动作电影，该剧由姜大卫、李修贤、陈观泰、午马、黄沾、周星驰等主演。'))},\n",
       " {'c': TheMainWork(Node('Node', '人物', '娱乐人物', '导演', '演员', '编剧', NodeId='周星驰', describe='周星驰，1962年6月22日生于香港，祖籍浙江宁波，中国香港演员、导演、编剧、制作人、商人，毕业于无线电视艺员训练班。'), Node('Node', '动作电影', '惊悚电影', '电影', '电影作品', NodeId='义胆群英', describe='《义胆群英》吴宇森、午马执导，本片是为纪念张彻导演从影四十周年，由张彻众弟子及朋友义演拍摄的贺寿性质的影片。'))},\n",
       " {'c': TheMainWork(Node('Node', '人物', '娱乐人物', '导演', '演员', '编剧', NodeId='周星驰', describe='周星驰，1962年6月22日生于香港，祖籍浙江宁波，中国香港演员、导演、编剧、制作人、商人，毕业于无线电视艺员训练班。'), Node('Node', '剧情电影', '电影', '电影作品', NodeId='龙凤茶楼', describe='《龙凤茶楼》是由潘文杰导演，莫少聪、周星驰、陈雅伦、陈加玲、吴孟达主演的香港电影，于1990年04月26日上映。'))},\n",
       " {'c': TheMainWork(Node('Node', '人物', '娱乐人物', '导演', '演员', '编剧', NodeId='周星驰', describe='周星驰，1962年6月22日生于香港，祖籍浙江宁波，中国香港演员、导演、编剧、制作人、商人，毕业于无线电视艺员训练班。'), Node('Node', '喜剧电影', '娱乐作品', '电影', '电影作品', NodeId='小偷阿星', describe='香港电影《小偷阿星》由纬恺电影公司于1990年出品。'))},\n",
       " {'c': TheMainWork(Node('Node', '人物', '娱乐人物', '导演', '演员', '编剧', NodeId='周星驰', describe='周星驰，1962年6月22日生于香港，祖籍浙江宁波，中国香港演员、导演、编剧、制作人、商人，毕业于无线电视艺员训练班。'), Node('Node', '喜剧电影', '娱乐作品', '电影', '电影作品', NodeId='小偷阿星', describe='《小偷阿星》是由周星驰、胡惠中、方中信、曾江主演的一部港台喜剧片。'))},\n",
       " {'c': TheMainWork(Node('Node', '人物', '娱乐人物', '导演', '演员', '编剧', NodeId='周星驰', describe='周星驰，1962年6月22日生于香港，祖籍浙江宁波，中国香港演员、导演、编剧、制作人、商人，毕业于无线电视艺员训练班。'), Node('Node', '动作电影', '喜剧电影', '娱乐作品', '电影', '电影作品', '科幻电影', NodeId='师兄撞鬼', describe='《师兄撞鬼》是刘仕裕执导的香港喜剧片，周星驰、陈德容、董骠、冯淬帆等联合主演。'))},\n",
       " {'c': TheMainWork(Node('Node', '人物', '娱乐人物', '导演', '演员', '编剧', NodeId='周星驰', describe='周星驰，1962年6月22日生于香港，祖籍浙江宁波，中国香港演员、导演、编剧、制作人、商人，毕业于无线电视艺员训练班。'), Node('Node', '娱乐作品', '犯罪电影', '电影', '电影作品', NodeId='江湖最后一个大佬', describe='黑社会龙头老大方叔出狱后，儿子云带他到酒店洗尘，并叫女儿丽一起回家，丽与一群衣着光鲜的青年在一起，不肯走，争执中双方发生争斗，方叔的手下都已老迈，只有计谋但体力不济，在争斗中伤亡不少，云与一帮开出租车name=description>'))},\n",
       " {'c': TheMainWork(Node('Node', '人物', '娱乐人物', '导演', '演员', '编剧', NodeId='周星驰', describe='周星驰，1962年6月22日生于香港，祖籍浙江宁波，中国香港演员、导演、编剧、制作人、商人，毕业于无线电视艺员训练班。'), Node('Node', '娱乐作品', '犯罪电影', '电影', '电影作品', NodeId='江湖最后一个大佬', describe='《江湖最后一个大佬》是由沈威执导，周星驰、吴孟达等人主演的一部剧情片。'))},\n",
       " {'c': TheMainWork(Node('Node', '人物', '娱乐人物', '导演', '演员', '编剧', NodeId='周星驰', describe='周星驰，1962年6月22日生于香港，祖籍浙江宁波，中国香港演员、导演、编剧、制作人、商人，毕业于无线电视艺员训练班。'), Node('Node', '剧情电影', '喜剧电影', '娱乐作品', '电影', '电影作品', '科幻电影', NodeId='赌侠', describe='这部由王晶编导的《赌侠》开山作，是描写小刀成为赌神的徒弟，在龙五陪同下踏出江湖，以赌技作慈善，被封为赌侠。'))},\n",
       " {'c': TheMainWork(Node('Node', '人物', '娱乐人物', '导演', '演员', '编剧', NodeId='周星驰', describe='周星驰，1962年6月22日生于香港，祖籍浙江宁波，中国香港演员、导演、编剧、制作人、商人，毕业于无线电视艺员训练班。'), Node('Node', '剧情电影', '喜剧电影', '娱乐作品', '电影', '电影作品', '科幻电影', NodeId='赌侠', describe='《赌侠》是1990年上映的一部香港影片，本片由香港导演王晶执导，周星驰、刘德华领衔主演，张敏、陈法蓉、吴孟达等联袂主演的香港喜剧电影。'))},\n",
       " {'c': TheMainWork(Node('Node', '人物', '娱乐人物', '导演', '演员', '编剧', NodeId='周星驰', describe='周星驰，1962年6月22日生于香港，祖籍浙江宁波，中国香港演员、导演、编剧、制作人、商人，毕业于无线电视艺员训练班。'), Node('Node', '动作电影', '喜剧电影', '娱乐作品', '电影', '电影作品', NodeId='新精武门1991', describe='《新精武门1991》，喜剧影片。'))},\n",
       " {'c': TheMainWork(Node('Node', '人物', '娱乐人物', '导演', '演员', '编剧', NodeId='周星驰', describe='周星驰，1962年6月22日生于香港，祖籍浙江宁波，中国香港演员、导演、编剧、制作人、商人，毕业于无线电视艺员训练班。'), Node('Node', '动作电影', '喜剧电影', '娱乐作品', '电影', '电影作品', NodeId='新精武门1991', describe='《新精武门1991》是左颂升，罗维执导的一部喜剧动作电影，由周星驰、钟镇涛、张敏等主演。'))},\n",
       " {'c': TheMainWork(Node('Node', '人物', '娱乐人物', '导演', '演员', '编剧', NodeId='周星驰', describe='周星驰，1962年6月22日生于香港，祖籍浙江宁波，中国香港演员、导演、编剧、制作人、商人，毕业于无线电视艺员训练班。'), Node('Node', '剧情电影', '动作电影', '喜剧电影', '爱情电影', '电影', '电影作品', '香港电影', NodeId='漫画威龙', describe='漫画威龙，又名摩登武圣新精武门1992。'))},\n",
       " {'c': TheMainWork(Node('Node', '人物', '娱乐人物', '导演', '演员', '编剧', NodeId='周星驰', describe='周星驰，1962年6月22日生于香港，祖籍浙江宁波，中国香港演员、导演、编剧、制作人、商人，毕业于无线电视艺员训练班。'), Node('Node', '剧情电影', '动作电影', '喜剧电影', '爱情电影', '电影', '电影作品', '香港电影', NodeId='漫画威龙', describe='《漫画威龙》是由浚升影业公司于1992年1月1日发行的一部喜剧类影片。'))},\n",
       " {'c': TheMainWork(Node('Node', '人物', '娱乐人物', '导演', '演员', '编剧', NodeId='周星驰', describe='周星驰，1962年6月22日生于香港，祖籍浙江宁波，中国香港演员、导演、编剧、制作人、商人，毕业于无线电视艺员训练班。'), Node('Node', '动作电影', '喜剧电影', '电影', '电影作品', NodeId='武状元苏乞儿', describe='《武状元苏乞儿》是陈嘉上在1992年导演的动作喜剧。'))},\n",
       " {'c': TheMainWork(Node('Node', '人物', '娱乐人物', '导演', '演员', '编剧', NodeId='周星驰', describe='周星驰，1962年6月22日生于香港，祖籍浙江宁波，中国香港演员、导演、编剧、制作人、商人，毕业于无线电视艺员训练班。'), Node('Node', '动作电影', '喜剧电影', '电影', '电影作品', NodeId='武状元苏乞儿', describe='《武状元苏乞儿》是由陈嘉上与林德禄导演、张敏与周星驰主演的一部电影，影片主人公苏灿（周星驰饰）本是广州督军之子，但在考取武状元时，因受人陷害而被皇上责罚沦为乞丐。'))},\n",
       " {'c': TheMainWork(Node('Node', '人物', '娱乐人物', '导演', '演员', '编剧', NodeId='周星驰', describe='周星驰，1962年6月22日生于香港，祖籍浙江宁波，中国香港演员、导演、编剧、制作人、商人，毕业于无线电视艺员训练班。'), Node('Node', '动作电影', '喜剧电影', '电影', '电影作品', NodeId='逃学威龙3龙过鸡年', describe='《逃学威龙3：龙过鸡年》是新宝娱乐有限公司出品的喜剧电影。'))},\n",
       " {'c': TheMainWork(Node('Node', '人物', '娱乐人物', '导演', '演员', '编剧', NodeId='周星驰', describe='周星驰，1962年6月22日生于香港，祖籍浙江宁波，中国香港演员、导演、编剧、制作人、商人，毕业于无线电视艺员训练班。'), Node('Node', '动作电影', '喜剧电影', '电影', '电影作品', NodeId='逃学威龙3龙过鸡年', describe='《逃学威龙3：龙过鸡年》是新宝娱乐有限公司出品的喜剧电影。'))},\n",
       " {'c': TheMainWork(Node('Node', '人物', '娱乐人物', '导演', '演员', '编剧', NodeId='周星驰', describe='周星驰，1962年6月22日生于香港，祖籍浙江宁波，中国香港演员、导演、编剧、制作人、商人，毕业于无线电视艺员训练班。'), Node('Node', '动作电影', '喜剧电影', '娱乐作品', '电影', '电影作品', NodeId='破坏之王', describe='《破坏之王》是一部由周星驰执导，周星驰，钟丽缇，吴孟达等主演的香港喜剧电影，于1994年上映。'))},\n",
       " {'c': TheMainWork(Node('Node', '人物', '娱乐人物', '导演', '演员', '编剧', NodeId='周星驰', describe='周星驰，1962年6月22日生于香港，祖籍浙江宁波，中国香港演员、导演、编剧、制作人、商人，毕业于无线电视艺员训练班。'), Node('Node', '动作电影', '喜剧电影', '娱乐作品', '电影', '电影作品', NodeId='破坏之王', describe='影片《破坏之王》周星驰与吴孟达合演一对鬼马师徒，以漫画化造型和无厘头演出来表现一个泡妞喜剧。'))},\n",
       " {'c': TheMainWork(Node('Node', '人物', '娱乐人物', '导演', '演员', '编剧', NodeId='周星驰', describe='周星驰，1962年6月22日生于香港，祖籍浙江宁波，中国香港演员、导演、编剧、制作人、商人，毕业于无线电视艺员训练班。'), Node('Node', '动作电影', '娱乐作品', '电影', '电影作品', NodeId='国产凌凌漆', describe='《国产凌凌漆》是一部由周星驰、李力持执导，周星驰、袁咏仪、罗家英等主演，于1994年上映的香港喜剧电影。'))},\n",
       " {'c': TheMainWork(Node('Node', '人物', '娱乐人物', '导演', '演员', '编剧', NodeId='周星驰', describe='周星驰，1962年6月22日生于香港，祖籍浙江宁波，中国香港演员、导演、编剧、制作人、商人，毕业于无线电视艺员训练班。'), Node('Node', '动作电影', '娱乐作品', '电影', '电影作品', NodeId='国产凌凌漆', describe='《国产凌凌漆》是一部由周星驰、李力持执导，周星驰、袁咏仪、罗家英等主演，于1994年上映的香港喜剧电影。'))},\n",
       " {'c': TheMainWork(Node('Node', '人物', '娱乐人物', '导演', '演员', '编剧', NodeId='周星驰', describe='周星驰，1962年6月22日生于香港，祖籍浙江宁波，中国香港演员、导演、编剧、制作人、商人，毕业于无线电视艺员训练班。'), Node('Node', '动作电影', '喜剧电影', '娱乐作品', '爱情电影', '电影', '电影作品', '科幻电影', '香港电影', NodeId='大话西游之月光宝盒', describe='《大话西游之月光宝盒》是周星驰彩星电影公司1994年制作和出品的一部经典的无厘头搞笑片，改编依据是吴承恩所撰写的神怪小说《西游记》，该片是《大话西游》系列的第一部，由刘镇伟导演，技安编剧，周星驰制作，周星驰、莫文蔚、吴孟达、蓝洁瑛等人主演。'))},\n",
       " {'c': TheMainWork(Node('Node', '人物', '娱乐人物', '导演', '演员', '编剧', NodeId='周星驰', describe='周星驰，1962年6月22日生于香港，祖籍浙江宁波，中国香港演员、导演、编剧、制作人、商人，毕业于无线电视艺员训练班。'), Node('Node', '剧情电影', '动作电影', '喜剧电影', '爱情电影', '电影', '电影作品', NodeId='大内密探零零发', describe='《大内密探零零发》是一部周星驰自编自导自演拍摄于1996年的古装武侠外星科幻搞笑电影，刘嘉玲，李若彤、罗家英联袂主演。'))},\n",
       " {'c': TheMainWork(Node('Node', '人物', '娱乐人物', '导演', '演员', '编剧', NodeId='周星驰', describe='周星驰，1962年6月22日生于香港，祖籍浙江宁波，中国香港演员、导演、编剧、制作人、商人，毕业于无线电视艺员训练班。'), Node('Node', '剧情电影', '喜剧电影', '娱乐作品', '电影', '电影作品', '香港电影', NodeId='97家有喜事', describe='《97家有喜事》由紫东影视出品有限公司于1997年出品，是1997年在香港上映的贺岁喜剧电影，该片由张坚庭执导，由周星驰、吴倩莲、吴镇宇、黄百鸣、钟丽缇等领衔主演。'))},\n",
       " {'c': TheMainWork(Node('Node', '人物', '娱乐人物', '导演', '演员', '编剧', NodeId='周星驰', describe='周星驰，1962年6月22日生于香港，祖籍浙江宁波，中国香港演员、导演、编剧、制作人、商人，毕业于无线电视艺员训练班。'), Node('Node', '喜剧电影', '电影', '电影作品', NodeId='行运一条龙', describe='《行运一条龙》是由李力持导演的1998年的贺岁片，像很多香港贺岁片一样，一个大家庭，四个小故事同时进行。'))},\n",
       " {'c': TheMainWork(Node('Node', '人物', '娱乐人物', '导演', '演员', '编剧', NodeId='周星驰', describe='周星驰，1962年6月22日生于香港，祖籍浙江宁波，中国香港演员、导演、编剧、制作人、商人，毕业于无线电视艺员训练班。'), Node('Node', '喜剧电影', '电影', '电影作品', NodeId='行运一条龙', describe='《行运一条龙》是由天下电影制作有限公司于1998年1月16日发行的一部喜剧类影片。'))},\n",
       " {'c': TheMainWork(Node('Node', '人物', '娱乐人物', '导演', '演员', '编剧', NodeId='周星驰', describe='周星驰，1962年6月22日生于香港，祖籍浙江宁波，中国香港演员、导演、编剧、制作人、商人，毕业于无线电视艺员训练班。'), Node('Node', '喜剧电影', '娱乐作品', '电影', '电影作品', '电视剧', NodeId='茅趸王', describe='《茅趸王》是由金知云执导，宋康昊、张真英、朴相勉等领衔主演的喜剧片。'))},\n",
       " {'c': TheMainWork(Node('Node', '人物', '娱乐人物', '导演', '演员', '编剧', NodeId='周星驰', describe='周星驰，1962年6月22日生于香港，祖籍浙江宁波，中国香港演员、导演、编剧、制作人、商人，毕业于无线电视艺员训练班。'), Node('Node', '喜剧电影', '娱乐作品', '电影', '电影作品', '电视剧', NodeId='茅趸王', describe='《茅趸王》是一部纯粹黑色幽默的搞笑韩国影片，讲述一个小人物通过自己努力获得成功的故事。'))},\n",
       " {'c': TheMainWork(Node('Node', '人物', '娱乐人物', '导演', '演员', '编剧', NodeId='周星驰', describe='周星驰，1962年6月22日生于香港，祖籍浙江宁波，中国香港演员、导演、编剧、制作人、商人，毕业于无线电视艺员训练班。'), Node('Node', '剧情电影', '喜剧电影', '娱乐作品', '电影', '电影作品', '科幻电影', NodeId='长江7号', describe='《长江7号》是由周星驰执导，周星驰、徐娇、张雨绮、林子聪主演的科幻喜剧电影。'))}]"
      ]
     },
     "execution_count": 22,
     "metadata": {},
     "output_type": "execute_result"
    }
   ],
   "source": [
    "graph.cql(\"match (a:Node{NodeId:'周星驰'})-[c]->(b:电影) return c\")"
   ]
  },
  {
   "cell_type": "code",
   "execution_count": 21,
   "metadata": {},
   "outputs": [
    {
     "name": "stdout",
     "output_type": "stream",
     "text": [
      "Play the role of\n"
     ]
    }
   ],
   "source": [
    "\n"
   ]
  },
  {
   "cell_type": "code",
   "execution_count": null,
   "metadata": {},
   "outputs": [],
   "source": []
  }
 ],
 "metadata": {
  "kernelspec": {
   "display_name": "Python 3",
   "language": "python",
   "name": "python3"
  },
  "language_info": {
   "codemirror_mode": {
    "name": "ipython",
    "version": 3
   },
   "file_extension": ".py",
   "mimetype": "text/x-python",
   "name": "python",
   "nbconvert_exporter": "python",
   "pygments_lexer": "ipython3",
   "version": "3.7.3"
  }
 },
 "nbformat": 4,
 "nbformat_minor": 2
}
